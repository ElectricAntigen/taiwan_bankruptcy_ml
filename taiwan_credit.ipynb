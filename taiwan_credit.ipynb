{
 "cells": [
  {
   "cell_type": "code",
   "execution_count": 3,
   "metadata": {},
   "outputs": [
    {
     "name": "stdout",
     "output_type": "stream",
     "text": [
      "Requirement already satisfied: ucimlrepo in c:\\users\\maxym\\appdata\\local\\programs\\python\\python312\\lib\\site-packages (0.0.7)\n",
      "Requirement already satisfied: pandas>=1.0.0 in c:\\users\\maxym\\appdata\\local\\programs\\python\\python312\\lib\\site-packages (from ucimlrepo) (2.2.3)\n",
      "Requirement already satisfied: certifi>=2020.12.5 in c:\\users\\maxym\\appdata\\local\\programs\\python\\python312\\lib\\site-packages (from ucimlrepo) (2024.8.30)\n",
      "Requirement already satisfied: numpy>=1.26.0 in c:\\users\\maxym\\appdata\\local\\programs\\python\\python312\\lib\\site-packages (from pandas>=1.0.0->ucimlrepo) (2.1.1)\n",
      "Requirement already satisfied: python-dateutil>=2.8.2 in c:\\users\\maxym\\appdata\\roaming\\python\\python312\\site-packages (from pandas>=1.0.0->ucimlrepo) (2.9.0.post0)\n",
      "Requirement already satisfied: pytz>=2020.1 in c:\\users\\maxym\\appdata\\local\\programs\\python\\python312\\lib\\site-packages (from pandas>=1.0.0->ucimlrepo) (2024.2)\n",
      "Requirement already satisfied: tzdata>=2022.7 in c:\\users\\maxym\\appdata\\local\\programs\\python\\python312\\lib\\site-packages (from pandas>=1.0.0->ucimlrepo) (2024.2)\n",
      "Requirement already satisfied: six>=1.5 in c:\\users\\maxym\\appdata\\roaming\\python\\python312\\site-packages (from python-dateutil>=2.8.2->pandas>=1.0.0->ucimlrepo) (1.16.0)\n",
      "Note: you may need to restart the kernel to use updated packages.\n"
     ]
    },
    {
     "name": "stderr",
     "output_type": "stream",
     "text": [
      "\n",
      "[notice] A new release of pip is available: 24.2 -> 24.3.1\n",
      "[notice] To update, run: python.exe -m pip install --upgrade pip\n"
     ]
    }
   ],
   "source": [
    "pip install ucimlrepo"
   ]
  },
  {
   "cell_type": "code",
   "execution_count": 5,
   "metadata": {},
   "outputs": [
    {
     "name": "stdout",
     "output_type": "stream",
     "text": [
      "{'uci_id': 572, 'name': 'Taiwanese Bankruptcy Prediction', 'repository_url': 'https://archive.ics.uci.edu/dataset/572/taiwanese+bankruptcy+prediction', 'data_url': 'https://archive.ics.uci.edu/static/public/572/data.csv', 'abstract': 'The data were collected from the Taiwan Economic Journal  for the years 1999 to 2009. Company bankruptcy was defined based on the business regulations of the Taiwan Stock Exchange.', 'area': 'Business', 'tasks': ['Classification'], 'characteristics': ['Multivariate'], 'num_instances': 6819, 'num_features': 95, 'feature_types': ['Integer'], 'demographics': [], 'target_col': ['Bankrupt?'], 'index_col': None, 'has_missing_values': 'no', 'missing_values_symbol': None, 'year_of_dataset_creation': 2020, 'last_updated': 'Fri Mar 15 2024', 'dataset_doi': '10.24432/C5004D', 'creators': [], 'intro_paper': None, 'additional_info': {'summary': None, 'purpose': None, 'funded_by': None, 'instances_represent': None, 'recommended_data_splits': None, 'sensitive_data': None, 'preprocessing_description': None, 'variable_info': \"The first attribute is the class lable.\\r\\nX1\\tCost of Interest-bearing Debt\\r\\nX2\\tCash Reinvestment Ratio\\r\\nX3\\tCurrent Ratio\\r\\nX4\\tAcid Test  \\r\\nX5\\tInterest Expenses/Total Revenue\\r\\nX6\\tTotal Liability/Equity Ratio\\r\\nX7\\tLiability/Total Assets\\r\\nX8\\tInterest-bearing Debt/Equity\\r\\nX9\\tContingent Liability/Equity\\r\\nX10\\tOperating Income/Capital\\r\\nX11\\tPretax Income/Capital\\r\\nX12\\tWorking Capital to Total Assets\\r\\nX13\\tQuick Assets/Total assets\\r\\nX14\\tCurrent Assets/Total Assets\\r\\nX15\\tCash/Total Assets\\r\\nX16\\tQuick Assets/Current Liability\\r\\nX17\\tCash/Current Liability\\r\\nX18\\tCurrent Liability to Assets\\r\\nX19\\tOperating Funds to Liability \\r\\nX20\\tInventory/Working Capital\\r\\nX21\\tInventory/Current Liability\\r\\nX22\\tCurrent Liabilities/Liability\\r\\nX23\\tWorking Capital/Equity\\r\\nX24\\tCurrent Liabilities/Equity\\r\\nX25\\tLong-term Liability to Current Assets\\r\\nX26\\tCurrent Liability to Current Assets\\r\\nX27\\tOne if Total Liability exceeds Total Assets;\\r\\nX28\\tEquity to Liability\\r\\nX29\\tEquity/Total Assets\\r\\nX30\\t(Long-term Liability+Equity)/Fixed Assets\\r\\nX31\\tFixed Assets to Assets\\r\\nX32\\tCurrent Liability to Liability \\r\\nX33\\tCurrent Liability to Equity\\r\\nX34\\tEquity to Long-term Liability\\r\\nX35\\tLiability to Equity \\r\\nX36\\tDegree of Financial Leverage\\r\\nX37\\tInterest Coverage Ratio\\r\\nX38\\tOperating Expenses/Net Sales\\r\\nX39\\t(Research and Development Expenses)/Net Sales\\r\\nX40\\tEffective Tax Rate\\r\\nX41\\tBook Value Per Share(B)\\r\\nX42\\tBook Value Per Share(A)\\r\\nX43\\tBook Value Per Share(C)\\r\\nX44\\tCash Flow Per Share\\r\\nX45\\tSales Per Share\\r\\nX46\\tOperating Income Per Share\\r\\nX47\\tSales Per Employee\\r\\nX48\\tOperation Income Per Employee\\r\\nX49\\tFixed Assets Per Employee\\r\\nX50\\ttotal assets to GNP price\\r\\nX51\\tReturn On Total Assets(C)\\r\\nX52\\tReturn On Total Assets(A)\\r\\nX53\\tReturn On Total Assets(B)\\r\\nX54\\tGross Profit /Net Sales\\r\\nX55\\tRealized Gross Profit/Net Sales\\r\\nX56\\tOperating Income /Net Sales\\r\\nX57\\tPre-Tax Income/Net Sales\\r\\nX58\\tNet Income/Net Sales\\r\\nX59\\tNet Non-operating Income Ratio\\r\\nX60\\tNet Income-Exclude Disposal Gain or Loss/Net Sales\\r\\nX61\\tEPS-Net Income\\r\\nX62\\tPretax Income Per Share\\r\\nX63\\tRetained Earnings to Total Assets\\r\\nX64\\tTotal Income to Total Expenses\\r\\nX65\\tTotal Expenses to Assets\\r\\nX66\\tNet Income to Total Assets\\r\\nX67\\tGross Profit to Sales\\r\\nX68\\tNet Income to Stockholder's Equity\\r\\nX69\\tOne if Net Income is Negative for the Last Two Years; Zero Otherwise\\r\\nX70\\t(Inventory +Accounts Receivables) /Equity\\r\\nX71\\tTotal Asset Turnover\\r\\nX72\\tAccounts Receivable Turnover\\r\\nX73\\tDays Receivable Outstanding\\r\\nX74\\tInventory Turnover\\r\\nX75\\tFixed Asset Turnover\\r\\nX76\\tEquity Turnover\\r\\nX77\\tCurrent Assets to Sales\\r\\nX78\\tQuick Assets to Sales\\r\\nX79\\tWorking Capital to Sales\\r\\nX80\\tCash to Sales\\r\\nX81\\tCash Flow to Sales\\r\\nX82\\tNo-credit Interval\\r\\nX83\\tCash Flow from Operating/Current Liabilities\\r\\nX84\\tCash Flow to Total Assets\\r\\nX85\\tCash Flow to Liability\\r\\nX86\\tCFO to Assets\\r\\nX87\\tCash Flow to Equity\\r\\nX88\\tRealized Gross Profit Growth Rate\\r\\nX89\\tOperating Income Growth\\r\\nX90\\tNet Income Growth\\r\\nX91\\tContinuing Operating Income after Tax Growth\\r\\nX92\\tNet Income-Excluding Disposal Gain or Loss Growth\\r\\nX93\\tTotal Asset Growth\\r\\nX94\\tTotal Equity Growth\\r\\nX95\\tReturn on Total Asset Growth\\r\\n\", 'citation': None}}\n",
      "                                                 name     role        type  \\\n",
      "0                                           Bankrupt?   Target     Integer   \n",
      "1    ROA(C) before interest and depreciation befor...  Feature  Continuous   \n",
      "2              ROA(A) before interest and % after tax  Feature  Continuous   \n",
      "3    ROA(B) before interest and depreciation after...  Feature  Continuous   \n",
      "4                              Operating Gross Margin  Feature  Continuous   \n",
      "..                                                ...      ...         ...   \n",
      "91                                Liability to Equity  Feature  Continuous   \n",
      "92                 Degree of Financial Leverage (DFL)  Feature  Continuous   \n",
      "93   Interest Coverage Ratio (Interest expense to ...  Feature  Continuous   \n",
      "94                                    Net Income Flag  Feature     Integer   \n",
      "95                                Equity to Liability  Feature  Continuous   \n",
      "\n",
      "   demographic description units missing_values  \n",
      "0         None        None  None             no  \n",
      "1         None        None  None             no  \n",
      "2         None        None  None             no  \n",
      "3         None        None  None             no  \n",
      "4         None        None  None             no  \n",
      "..         ...         ...   ...            ...  \n",
      "91        None        None  None             no  \n",
      "92        None        None  None             no  \n",
      "93        None        None  None             no  \n",
      "94        None        None  None             no  \n",
      "95        None        None  None             no  \n",
      "\n",
      "[96 rows x 7 columns]\n"
     ]
    }
   ],
   "source": [
    "from ucimlrepo import fetch_ucirepo \n",
    "  \n",
    "# fetch dataset \n",
    "taiwanese_bankruptcy_prediction = fetch_ucirepo(id=572) \n",
    "  \n",
    "# data (as pandas dataframes) \n",
    "X = taiwanese_bankruptcy_prediction.data.features \n",
    "y = taiwanese_bankruptcy_prediction.data.targets \n",
    "  \n",
    "# metadata \n",
    "print(taiwanese_bankruptcy_prediction.metadata) \n",
    "  \n",
    "# variable information \n",
    "print(taiwanese_bankruptcy_prediction.variables) \n"
   ]
  },
  {
   "cell_type": "code",
   "execution_count": null,
   "metadata": {},
   "outputs": [],
   "source": []
  }
 ],
 "metadata": {
  "kernelspec": {
   "display_name": "Python 3",
   "language": "python",
   "name": "python3"
  },
  "language_info": {
   "codemirror_mode": {
    "name": "ipython",
    "version": 3
   },
   "file_extension": ".py",
   "mimetype": "text/x-python",
   "name": "python",
   "nbconvert_exporter": "python",
   "pygments_lexer": "ipython3",
   "version": "3.12.6"
  }
 },
 "nbformat": 4,
 "nbformat_minor": 2
}
